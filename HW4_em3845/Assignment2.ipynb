{
 "cells": [
  {
   "cell_type": "code",
   "execution_count": 166,
   "metadata": {},
   "outputs": [
    {
     "name": "stdout",
     "output_type": "stream",
     "text": [
      "Populating the interactive namespace from numpy and matplotlib\n"
     ]
    }
   ],
   "source": [
    "from __future__  import print_function, division\n",
    "import pylab as pl\n",
    "import pandas as pd\n",
    "import numpy as np\n",
    "import os\n",
    "\n",
    "%pylab inline"
   ]
  },
  {
   "cell_type": "code",
   "execution_count": 167,
   "metadata": {},
   "outputs": [],
   "source": [
    "def getCitiBikeCSV(datestring):\n",
    "    print (\"Downloading\", datestring)\n",
    "    ### First I will heck that it is not already there\n",
    "    if not os.path.isfile(os.getenv(\"PUIDATA\") + \"/\" + datestring + \"-citibike-tripdata.csv\"):\n",
    "        if os.path.isfile(datestring + \"-citibike-tripdata.csv\"):\n",
    "            # if in the current dir just move it\n",
    "            if os.system(\"mv \" + datestring + \"-citibike-tripdata.csv \" + os.getenv(\"PUIDATA\")):\n",
    "                print (\"Error moving file!, Please check!\")\n",
    "        #otherwise start looking for the zip file\n",
    "        else:\n",
    "            if not os.path.isfile(os.getenv(\"PUIDATA\") + \"/\" + datestring + \"-citibike-tripdata.zip\"):\n",
    "                if not os.path.isfile(datestring + \"-citibike-tripdata.zip\"):\n",
    "                    os.system(\"curl -O https://s3.amazonaws.com/tripdata/\" + datestring + \"-citibike-tripdata.zip\")\n",
    "                ###  To move it I use the os.system() functions to run bash commands with arguments\n",
    "                os.system(\"mv \" + datestring + \"-citibike-tripdata.zip \" + os.getenv(\"PUIDATA\"))\n",
    "            ### unzip the csv \n",
    "            os.system(\"unzip \" + os.getenv(\"PUIDATA\") + \"/\" + datestring + \"-citibike-tripdata.zip\")\n",
    "            ## NOTE: old csv citibike data had a different name structure. \n",
    "            if '2014' in datestring:\n",
    "                os.system(\"mv \" + datestring[:4] + '-' +  datestring[4:] + \n",
    "                          \"\\ -\\ Citi\\ Bike\\ trip\\ data.csv \" + datestring + \"-citibike-tripdata.csv\")\n",
    "            os.system(\"mv \" + datestring + \"-citibike-tripdata.csv \" + os.getenv(\"PUIDATA\"))\n",
    "    ### One final check:\n",
    "    if not os.path.isfile(os.getenv(\"PUIDATA\") + \"/\" + datestring + \"-citibike-tripdata.csv\"):\n",
    "        print (\"WARNING!!! something is wrong: the file is not there!\")\n",
    "\n",
    "    else:\n",
    "        print (\"file in place, you can continue\")\n",
    "        "
   ]
  },
  {
   "cell_type": "code",
   "execution_count": 168,
   "metadata": {},
   "outputs": [
    {
     "name": "stdout",
     "output_type": "stream",
     "text": [
      "Downloading 201610\n",
      "file in place, you can continue\n",
      "201501-citibike-tripdata.csv  201710-citibike-tripdata.zip\n",
      "201501-citibike-tripdata.zip  -citibike-tripdata.csv.zip\n",
      "201610-citibike-tripdata.csv  edesigdata.csv\n",
      "201610-citibike-tripdata.zip  task3_data.txt\n",
      "201708-citibike-tripdata.zip\n"
     ]
    }
   ],
   "source": [
    "datestring = '201610'\n",
    "getCitiBikeCSV(datestring)\n",
    "df = pd.read_csv(os.getenv(\"PUIDATA\") + \"/\" + datestring + '-citibike-tripdata.csv')\n",
    "df.head()"
   ]
  },
  {
   "cell_type": "code",
   "execution_count": 169,
   "metadata": {},
   "outputs": [
    {
     "data": {
      "text/plain": [
       "Index(['Trip Duration', 'Start Time', 'Stop Time', 'Start Station ID',\n",
       "       'Start Station Name', 'Start Station Latitude',\n",
       "       'Start Station Longitude', 'End Station ID', 'End Station Name',\n",
       "       'End Station Latitude', 'End Station Longitude', 'Bike ID', 'User Type',\n",
       "       'Birth Year', 'Gender'],\n",
       "      dtype='object')"
      ]
     },
     "execution_count": 169,
     "metadata": {},
     "output_type": "execute_result"
    }
   ],
   "source": [
    "df.columns"
   ]
  },
  {
   "cell_type": "markdown",
   "metadata": {},
   "source": [
    "# IDEA:\n",
    "\n",
    "My hypothesis is, that during weekdays, when people commute to work, majority of customers will be of a type \"subscriber\" as they would use it as their usual commute to work. I will use the data from October 2015, as it is les slikely in that month that people go on vacation.\n",
    "\n",
    "# Null hypothesis:\n",
    "During weekdays, number of subscriber users is lower or equal to the number of other users of citiBike. Significance level: 0.05\n",
    "\n",
    "# Alternative hypothesis:\n",
    "During weekdays, number of subscriber users is higher than the number of other users of citiBike. Significance level: 0.05"
   ]
  },
  {
   "cell_type": "code",
   "execution_count": 170,
   "metadata": {},
   "outputs": [
    {
     "data": {
      "text/html": [
       "<div>\n",
       "<table border=\"1\" class=\"dataframe\">\n",
       "  <thead>\n",
       "    <tr style=\"text-align: right;\">\n",
       "      <th></th>\n",
       "      <th>User Type</th>\n",
       "      <th>Weekday</th>\n",
       "    </tr>\n",
       "  </thead>\n",
       "  <tbody>\n",
       "    <tr>\n",
       "      <th>80834</th>\n",
       "      <td>Customer</td>\n",
       "      <td>Monday</td>\n",
       "    </tr>\n",
       "    <tr>\n",
       "      <th>80835</th>\n",
       "      <td>Subscriber</td>\n",
       "      <td>Monday</td>\n",
       "    </tr>\n",
       "    <tr>\n",
       "      <th>80836</th>\n",
       "      <td>Subscriber</td>\n",
       "      <td>Monday</td>\n",
       "    </tr>\n",
       "    <tr>\n",
       "      <th>80837</th>\n",
       "      <td>Subscriber</td>\n",
       "      <td>Monday</td>\n",
       "    </tr>\n",
       "    <tr>\n",
       "      <th>80838</th>\n",
       "      <td>Subscriber</td>\n",
       "      <td>Monday</td>\n",
       "    </tr>\n",
       "  </tbody>\n",
       "</table>\n",
       "</div>"
      ],
      "text/plain": [
       "        User Type Weekday\n",
       "80834    Customer  Monday\n",
       "80835  Subscriber  Monday\n",
       "80836  Subscriber  Monday\n",
       "80837  Subscriber  Monday\n",
       "80838  Subscriber  Monday"
      ]
     },
     "execution_count": 170,
     "metadata": {},
     "output_type": "execute_result"
    }
   ],
   "source": [
    "\n",
    "df.drop(['Trip Duration', 'Stop Time', 'Start Station ID',\n",
    "       'Start Station Name', 'Start Station Latitude',\n",
    "       'Start Station Longitude', 'End Station ID', 'End Station Name',\n",
    "       'End Station Latitude', 'End Station Longitude', 'Bike ID',\n",
    "       'Birth Year', 'Gender'],\n",
    "        axis=1, inplace=True)\n",
    "df['date'] = pd.to_datetime(df['Start Time'])\n",
    "df['Weekday'] = df['date'].dt.weekday_name\n",
    "df.drop(['Start Time','date'],axis=1,inplace=True)\n",
    "# removing Saturday and Sunday\n",
    "df = df[df['Weekday'] != 'Sunday']\n",
    "df = df[df['Weekday'] != 'Saturday']\n",
    "df.head()"
   ]
  },
  {
   "cell_type": "code",
   "execution_count": 171,
   "metadata": {},
   "outputs": [
    {
     "data": {
      "text/html": [
       "<div>\n",
       "<table border=\"1\" class=\"dataframe\">\n",
       "  <thead>\n",
       "    <tr style=\"text-align: right;\">\n",
       "      <th></th>\n",
       "      <th>All users</th>\n",
       "      <th>Subscribers</th>\n",
       "      <th>Customers</th>\n",
       "    </tr>\n",
       "    <tr>\n",
       "      <th>Weekday</th>\n",
       "      <th></th>\n",
       "      <th></th>\n",
       "      <th></th>\n",
       "    </tr>\n",
       "  </thead>\n",
       "  <tbody>\n",
       "    <tr>\n",
       "      <th>Friday</th>\n",
       "      <td>211768</td>\n",
       "      <td>195606</td>\n",
       "      <td>16162</td>\n",
       "    </tr>\n",
       "    <tr>\n",
       "      <th>Monday</th>\n",
       "      <td>273670</td>\n",
       "      <td>249235</td>\n",
       "      <td>24435</td>\n",
       "    </tr>\n",
       "    <tr>\n",
       "      <th>Thursday</th>\n",
       "      <td>211863</td>\n",
       "      <td>197462</td>\n",
       "      <td>14401</td>\n",
       "    </tr>\n",
       "    <tr>\n",
       "      <th>Tuesday</th>\n",
       "      <td>237892</td>\n",
       "      <td>221772</td>\n",
       "      <td>16120</td>\n",
       "    </tr>\n",
       "    <tr>\n",
       "      <th>Wednesday</th>\n",
       "      <td>243008</td>\n",
       "      <td>225448</td>\n",
       "      <td>17560</td>\n",
       "    </tr>\n",
       "  </tbody>\n",
       "</table>\n",
       "</div>"
      ],
      "text/plain": [
       "           All users  Subscribers  Customers\n",
       "Weekday                                     \n",
       "Friday        211768       195606      16162\n",
       "Monday        273670       249235      24435\n",
       "Thursday      211863       197462      14401\n",
       "Tuesday       237892       221772      16120\n",
       "Wednesday     243008       225448      17560"
      ]
     },
     "execution_count": 171,
     "metadata": {},
     "output_type": "execute_result"
    }
   ],
   "source": [
    "#split by customer type\n",
    "\n",
    "df_g1 = df.groupby('Weekday').count()\n",
    "df_g1.columns=['All users']\n",
    "df_g1['Subscribers']=df[df['User Type']=='Subscriber'].groupby('Weekday').count()\n",
    "df_g1['Customers']=df[df['User Type']=='Customer'].groupby('Weekday').count()\n",
    "\n",
    "df_g1"
   ]
  },
  {
   "cell_type": "code",
   "execution_count": 172,
   "metadata": {},
   "outputs": [
    {
     "data": {
      "image/png": "[encoded data removed]",
      "text/plain": [
       "<matplotlib.figure.Figure at 0x7f7ba6b18c50>"
      ]
     },
     "metadata": {},
     "output_type": "display_data"
    }
   ],
   "source": [
    "import numpy as np\n",
    "import matplotlib.pyplot as plt\n",
    "\n",
    "df_g1['S ratio']=df_g1['Subscribers']/df_g1['All users']\n",
    "df_g1['C ratio']=df_g1['Customers']/df_g1['All users']\n",
    "\n",
    "p1=plt.bar(df_g1.index, df_g1['S ratio'])\n",
    "p2=plt.bar(df_g1.index, df_g1['C ratio'], bottom=df_g1['S ratio'])\n",
    "\n",
    "plt.xlabel('Weekday')\n",
    "plt.ylabel('Percentage of users')\n",
    "plt.title('Graph 1: Ratio of subscribe users versus other users in October 2015')\n",
    "plt.legend((p1[0], p2[0]), ('Subscribers', 'Other customers'))\n",
    "\n",
    "plt.show()"
   ]
  }
 ],
 "metadata": {
  "kernelspec": {
   "display_name": "PUI2016_Python3",
   "language": "python",
   "name": "pui2016_python3"
  },
  "language_info": {
   "codemirror_mode": {
    "name": "ipython",
    "version": 3
   },
   "file_extension": ".py",
   "mimetype": "text/x-python",
   "name": "python",
   "nbconvert_exporter": "python",
   "pygments_lexer": "ipython3",
   "version": "3.5.4"
  }
 },
 "nbformat": 4,
 "nbformat_minor": 2
}
