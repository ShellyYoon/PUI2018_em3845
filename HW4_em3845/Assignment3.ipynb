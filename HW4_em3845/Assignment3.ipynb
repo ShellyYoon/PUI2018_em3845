{
 "cells": [
  {
   "cell_type": "markdown",
   "metadata": {},
   "source": [
    "In the following task I need to realize whether the new bus route is better than the previous one. I will define the metrics for this experiment through null and alternative hypothesis below: \n",
    "\n",
    "# Null hypothesis: \n",
    "\n",
    "The mean of sample set for duration of the new X8 bus route is higher, or equal to the population mean of current bus X8 route at a significance level of 0.02.\n",
    "\n",
    "Mathematically: Current population mean of X8 bus tip length <= Sample mean of new X8 bus trip length  \n"
   ]
  },
  {
   "cell_type": "markdown",
   "metadata": {},
   "source": [
    " # Null hypothesis: \n",
    "\n",
    "The mean of sample set for duration of the new X8 bus route is lower than the population mean of current bus X8 route at a significance level of 0.02.\n",
    "\n",
    "Mathematically: Current population mean of X8 bus tip length > Sample mean of new X8 bus trip length  "
   ]
  },
  {
   "cell_type": "code",
   "execution_count": 58,
   "metadata": {},
   "outputs": [
    {
     "name": "stdout",
     "output_type": "stream",
     "text": [
      "Populating the interactive namespace from numpy and matplotlib\n"
     ]
    }
   ],
   "source": [
    "from __future__ import print_function\n",
    "import pandas as pd\n",
    "%pylab inline"
   ]
  },
  {
   "cell_type": "code",
   "execution_count": 59,
   "metadata": {},
   "outputs": [],
   "source": [
    "# Current route data:\n",
    "population_mean = 36\n",
    "population_std = 6\n",
    "\n",
    "# New route sample data:\n",
    "link = \"https://raw.githubusercontent.com/fedhere/PUI2018_fb55/master/Lab4_fb55/times.txt\"\n",
    "data = pd.read_csv(link,header=None, names=[\"time\"])\n",
    "data.head()\n",
    "\n",
    "sample_mean = data.time.mean()\n",
    "sample_std = data.time.std()\n",
    "sample_size = data.count()"
   ]
  },
  {
   "cell_type": "code",
   "execution_count": 60,
   "metadata": {},
   "outputs": [
    {
     "name": "stdout",
     "output_type": "stream",
     "text": [
      "Z test value:  2.55639718617\n",
      "Z* value:  2.33\n"
     ]
    }
   ],
   "source": [
    "# Z test values and comparison\n",
    "\n",
    "z_test = (population_mean-sample_mean)/(population_std/math.sqrt(sample_size))\n",
    "print(\"Z test value: \", z_test)\n",
    "\n",
    "z = 2.33\n",
    "\n",
    "print(\"Z* value: \", z)"
   ]
  },
  {
   "cell_type": "markdown",
   "metadata": {},
   "source": [
    "Z test value turned out to be higher than the significance threshold level, and hence\n",
    "# null hypothesis has been rejected\n",
    "and the mean travel time with the new route is significantly lower."
   ]
  }
 ],
 "metadata": {
  "kernelspec": {
   "display_name": "PUI2016_Python3",
   "language": "python",
   "name": "pui2016_python3"
  },
  "language_info": {
   "codemirror_mode": {
    "name": "ipython",
    "version": 3
   },
   "file_extension": ".py",
   "mimetype": "text/x-python",
   "name": "python",
   "nbconvert_exporter": "python",
   "pygments_lexer": "ipython3",
   "version": "3.5.4"
  }
 },
 "nbformat": 4,
 "nbformat_minor": 2
}
